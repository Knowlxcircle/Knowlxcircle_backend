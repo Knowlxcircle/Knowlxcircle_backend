{
 "cells": [
  {
   "cell_type": "code",
   "execution_count": 1,
   "metadata": {},
   "outputs": [
    {
     "name": "stdout",
     "output_type": "stream",
     "text": [
      "models/gemini-1.0-pro\n",
      "models/gemini-1.0-pro-001\n",
      "models/gemini-1.0-pro-latest\n",
      "models/gemini-1.0-pro-vision-latest\n",
      "models/gemini-1.5-flash\n",
      "models/gemini-1.5-flash-001\n",
      "models/gemini-1.5-flash-latest\n",
      "models/gemini-1.5-pro\n",
      "models/gemini-1.5-pro-001\n",
      "models/gemini-1.5-pro-latest\n",
      "models/gemini-pro\n",
      "models/gemini-pro-vision\n"
     ]
    }
   ],
   "source": [
    "from knowlxcirclebackend.settings import GOOGLE_API_KEY\n",
    "import google.generativeai as genai\n",
    "\n",
    "genai.configure(api_key=GOOGLE_API_KEY)\n",
    "\n",
    "for m in genai.list_models():\n",
    "  if 'generateContent' in m.supported_generation_methods:\n",
    "    print(m.name)"
   ]
  },
  {
   "cell_type": "code",
   "execution_count": 2,
   "metadata": {},
   "outputs": [],
   "source": [
    "model = genai.GenerativeModel('gemini-1.5-pro')"
   ]
  },
  {
   "cell_type": "code",
   "execution_count": 3,
   "metadata": {},
   "outputs": [
    {
     "name": "stdout",
     "output_type": "stream",
     "text": [
      "response:\n",
      "GenerateContentResponse(\n",
      "    done=True,\n",
      "    iterator=None,\n",
      "    result=protos.GenerateContentResponse({\n",
      "      \"candidates\": [\n",
      "        {\n",
      "          \"content\": {\n",
      "            \"parts\": [\n",
      "              {\n",
      "                \"text\": \"## Baking a Cake: A Simple Guide\\n\\nThis guide will walk you through baking a basic vanilla cake. Feel free to customize it with your favorite flavors!\\n\\n**Ingredients:**\\n\\n**For the Cake:**\\n* 2 cups (250g) all-purpose flour\\n* 2 cups (400g) granulated sugar\\n* 1 teaspoon (5g) baking powder\\n* 1/2 teaspoon (3g) baking soda\\n* 1/4 teaspoon (1g) salt\\n* 1 cup (2 sticks/226g) unsalted butter, softened\\n* 2 large eggs\\n* 1 teaspoon (5ml) vanilla extract\\n* 1 cup (240ml) buttermilk \\n\\n**For the Frosting:**\\n* 1 cup (2 sticks/226g) unsalted butter, softened\\n* 3 cups (360g) powdered sugar\\n* 1/4 cup (60ml) milk\\n* 1 teaspoon (5ml) vanilla extract\\n* Pinch of salt\\n\\n**Instructions:**\\n\\n**Get Started:**\\n\\n1. **Preheat** oven to 350\\u00b0F (175\\u00b0C).\\n2. **Grease and flour** two 9-inch round cake pans. You can also line the bottoms with parchment paper for easy removal.\\n\\n**Make the Cake Batter:**\\n\\n1. **Whisk dry ingredients:** In a large bowl, whisk together flour, sugar, baking powder, baking soda, and salt.\\n2. **Cream butter and sugar:** In another bowl, beat softened butter with an electric mixer until light and fluffy. Gradually add sugar and continue beating until well combined.\\n3. **Add eggs and vanilla:** Beat in eggs one at a time, then stir in vanilla extract.\\n4. **Combine wet and dry ingredients:** Gradually add the dry ingredients to the wet ingredients, alternating with the buttermilk, beginning and ending with the dry ingredients. Mix until just combined, don't overmix.\\n\\n**Bake the Cake:**\\n\\n1. **Pour batter into pans:** Divide the batter evenly between the prepared cake pans.\\n2. **Bake:** Bake for 30-35 minutes, or until a wooden toothpick inserted into the center comes out clean.\\n3. **Cool:** Let the cakes cool in the pans for 10 minutes before inverting them onto a wire rack to cool completely.\\n\\n**Make the Frosting:**\\n\\n1. **Cream butter:** In a large bowl, beat softened butter with an electric mixer until light and fluffy.\\n2. **Add powdered sugar:** Gradually add powdered sugar, beating on low speed until combined.\\n3. **Add milk and vanilla:** Add milk, vanilla extract, and salt. Beat on medium speed until light and fluffy.\\n\\n**Assemble the Cake:**\\n\\n1. **Level the cakes (optional):** If your cakes are uneven, use a serrated knife to level the tops.\\n2. **Frost the cake:** Place one cake layer on a serving plate. Spread a generous layer of frosting over the top. Top with the second cake layer and frost the entire cake.\\n3. **Decorate:** Get creative and decorate your cake as you like!\\n\\n**Tips:**\\n\\n* **Room temperature ingredients:** Ensure butter, eggs, and buttermilk are at room temperature for best results.\\n* **Don't overmix:** Overmixing the batter can result in a tough cake.\\n* **Toothpick test:** To check for doneness, insert a toothpick into the center of the cake. If it comes out clean, the cake is ready.\\n* **Cool completely:** Allow the cakes to cool completely before frosting to prevent the frosting from melting.\\n\\n**Enjoy your delicious homemade cake!** \\n\"\n",
      "              }\n",
      "            ],\n",
      "            \"role\": \"model\"\n",
      "          },\n",
      "          \"finish_reason\": \"STOP\",\n",
      "          \"index\": 0,\n",
      "          \"safety_ratings\": [\n",
      "            {\n",
      "              \"category\": \"HARM_CATEGORY_SEXUALLY_EXPLICIT\",\n",
      "              \"probability\": \"NEGLIGIBLE\"\n",
      "            },\n",
      "            {\n",
      "              \"category\": \"HARM_CATEGORY_HATE_SPEECH\",\n",
      "              \"probability\": \"NEGLIGIBLE\"\n",
      "            },\n",
      "            {\n",
      "              \"category\": \"HARM_CATEGORY_HARASSMENT\",\n",
      "              \"probability\": \"NEGLIGIBLE\"\n",
      "            },\n",
      "            {\n",
      "              \"category\": \"HARM_CATEGORY_DANGEROUS_CONTENT\",\n",
      "              \"probability\": \"NEGLIGIBLE\"\n",
      "            }\n",
      "          ],\n",
      "          \"citation_metadata\": {\n",
      "            \"citation_sources\": [\n",
      "              {\n",
      "                \"start_index\": 1292,\n",
      "                \"end_index\": 1452,\n",
      "                \"uri\": \"https://recipes.net/dessert/cakes/tom-cruise-cake-recipe/\",\n",
      "                \"license_\": \"\"\n",
      "              }\n",
      "            ]\n",
      "          }\n",
      "        }\n",
      "      ],\n",
      "      \"usage_metadata\": {\n",
      "        \"prompt_token_count\": 7,\n",
      "        \"candidates_token_count\": 778,\n",
      "        \"total_token_count\": 785\n",
      "      }\n",
      "    }),\n",
      ")\n"
     ]
    }
   ],
   "source": [
    "response = model.generate_content(\"How to make a cake?\")\n",
    "print(response)"
   ]
  }
 ],
 "metadata": {
  "kernelspec": {
   "display_name": "env",
   "language": "python",
   "name": "python3"
  },
  "language_info": {
   "codemirror_mode": {
    "name": "ipython",
    "version": 3
   },
   "file_extension": ".py",
   "mimetype": "text/x-python",
   "name": "python",
   "nbconvert_exporter": "python",
   "pygments_lexer": "ipython3",
   "version": "3.12.1"
  }
 },
 "nbformat": 4,
 "nbformat_minor": 2
}
