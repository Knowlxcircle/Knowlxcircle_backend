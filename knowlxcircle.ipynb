{
 "cells": [
  {
   "cell_type": "code",
   "execution_count": 1,
   "metadata": {},
   "outputs": [
    {
     "name": "stdout",
     "output_type": "stream",
     "text": [
      "models/gemini-1.0-pro\n",
      "models/gemini-1.0-pro-001\n",
      "models/gemini-1.0-pro-latest\n",
      "models/gemini-1.0-pro-vision-latest\n",
      "models/gemini-1.5-flash\n",
      "models/gemini-1.5-flash-001\n",
      "models/gemini-1.5-flash-latest\n",
      "models/gemini-1.5-pro\n",
      "models/gemini-1.5-pro-001\n",
      "models/gemini-1.5-pro-latest\n",
      "models/gemini-pro\n",
      "models/gemini-pro-vision\n"
     ]
    }
   ],
   "source": [
    "from knowlxcirclebackend.settings import GOOGLE_API_KEY\n",
    "import google.generativeai as genai\n",
    "\n",
    "genai.configure(api_key=GOOGLE_API_KEY)\n",
    "\n",
    "for m in genai.list_models():\n",
    "  if 'generateContent' in m.supported_generation_methods:\n",
    "    print(m.name)"
   ]
  },
  {
   "cell_type": "code",
   "execution_count": 5,
   "metadata": {},
   "outputs": [],
   "source": [
    "model = genai.GenerativeModel('gemini-1.5-pro')"
   ]
  },
  {
   "cell_type": "code",
   "execution_count": 6,
   "metadata": {},
   "outputs": [
    {
     "name": "stdout",
     "output_type": "stream",
     "text": [
      "## Baking a Cake: A Simple Guide\n",
      "\n",
      "This guide will walk you through baking a classic vanilla cake. Once you master this, you can explore countless variations! \n",
      "\n",
      "**Ingredients:**\n",
      "\n",
      "**For the Cake:**\n",
      "\n",
      "* 2 cups (250g) all-purpose flour\n",
      "* 2 cups (400g) granulated sugar\n",
      "* 1 teaspoon (5g) baking powder\n",
      "* 1/2 teaspoon (3g) baking soda\n",
      "* 1/4 teaspoon (1.5g) salt\n",
      "* 1 cup (2 sticks) unsalted butter, softened\n",
      "* 2 large eggs\n",
      "* 1 cup (240ml) milk\n",
      "* 1 teaspoon (5ml) vanilla extract\n",
      "\n",
      "**For the Frosting:**\n",
      "\n",
      "* 1 cup (2 sticks) unsalted butter, softened\n",
      "* 3-4 cups (375-500g) powdered sugar\n",
      "* 1/4 cup (60ml) milk\n",
      "* 1 teaspoon (5ml) vanilla extract\n",
      "* Pinch of salt\n",
      "\n",
      "**Equipment:**\n",
      "\n",
      "* Two 9-inch round cake pans\n",
      "* Parchment paper\n",
      "* Electric mixer (handheld or stand)\n",
      "* Spatulas (rubber and offset)\n",
      "* Measuring cups and spoons\n",
      "* Mixing bowls\n",
      "* Wire rack\n",
      "\n",
      "**Instructions:**\n",
      "\n",
      "**1. Prepare the Pans:**\n",
      "\n",
      "* Preheat oven to 350°F (175°C). Grease and flour two 9-inch round cake pans. Line the bottoms with parchment paper for easy removal later.\n",
      "\n",
      "**2. Mix Dry Ingredients:**\n",
      "\n",
      "* In a large bowl, whisk together flour, sugar, baking powder, baking soda, and salt. \n",
      "\n",
      "**3. Cream Butter and Sugar:**\n",
      "\n",
      "* In another bowl, cream together softened butter and sugar using an electric mixer until light and fluffy. \n",
      "\n",
      "**4. Add Eggs:**\n",
      "\n",
      "* Beat in eggs one at a time, mixing well after each addition.\n",
      "\n",
      "**5. Combine Wet and Dry Ingredients:**\n",
      "\n",
      "* In a separate bowl, whisk together milk and vanilla extract.\n",
      "* Gradually add the dry ingredients to the wet ingredients, alternating with the milk mixture, and beginning and ending with the dry ingredients. Mix on low speed until just combined. Don't overmix!\n",
      "\n",
      "**6. Pour Batter into Pans:**\n",
      "\n",
      "* Divide batter evenly between the prepared pans.\n",
      "\n",
      "**7. Bake:**\n",
      "\n",
      "* Bake for 30-35 minutes, or until a wooden skewer inserted into the center comes out clean.\n",
      "\n",
      "**8. Cool and Frost:**\n",
      "\n",
      "* Let cakes cool in pans for 10 minutes before inverting onto a wire rack to cool completely.\n",
      "* Once completely cool, make the frosting.\n",
      "\n",
      "**9. Make Frosting:**\n",
      "\n",
      "* In a large bowl, cream together softened butter with an electric mixer until smooth. \n",
      "* Gradually add powdered sugar, one cup at a time, beating until well combined. \n",
      "* Add milk, vanilla extract, and salt. Beat on high speed for 2-3 minutes, until light and fluffy.\n",
      "\n",
      "**10. Assemble the Cake:**\n",
      "\n",
      "* Place one cake layer on a serving plate. \n",
      "* Spread a generous layer of frosting over the top.\n",
      "* Gently place the second cake layer on top. \n",
      "* Frost the entire cake with remaining frosting.\n",
      "\n",
      "**Tips:**\n",
      "\n",
      "* Use room temperature ingredients for best results.\n",
      "* Don't overmix the batter, as it can lead to a tough cake.\n",
      "* Let the cakes cool completely before frosting to prevent melting.\n",
      "\n",
      "**Variations:**\n",
      "\n",
      "* Add 1/2 cup of chocolate chips to the batter for chocolate chip cake.\n",
      "* Replace vanilla extract with almond extract and add sliced almonds on top for an almond cake.\n",
      "* Use different frostings like cream cheese frosting, chocolate frosting, or fruit fillings between layers.\n",
      "\n",
      "Enjoy your delicious homemade cake!\n"
     ]
    }
   ],
   "source": [
    "response = model.generate_content(\"How to make a cake?\")\n",
    "print(response.text)"
   ]
  }
 ],
 "metadata": {
  "kernelspec": {
   "display_name": "env",
   "language": "python",
   "name": "python3"
  },
  "language_info": {
   "codemirror_mode": {
    "name": "ipython",
    "version": 3
   },
   "file_extension": ".py",
   "mimetype": "text/x-python",
   "name": "python",
   "nbconvert_exporter": "python",
   "pygments_lexer": "ipython3",
   "version": "3.12.1"
  }
 },
 "nbformat": 4,
 "nbformat_minor": 2
}
